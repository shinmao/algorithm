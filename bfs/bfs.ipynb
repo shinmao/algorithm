{
 "cells": [
  {
   "cell_type": "code",
   "execution_count": 7,
   "metadata": {},
   "outputs": [
    {
     "name": "stdout",
     "output_type": "stream",
     "text": [
      "[<__main__.Node object at 0x7f9c39fef760>, <__main__.Node object at 0x7f9c39fef4c0>]\n",
      "[<__main__.Node object at 0x7f9c39fefa90>, <__main__.Node object at 0x7f9c39fef6d0>]\n",
      "[<__main__.Node object at 0x7f9c39fef6d0>]\n"
     ]
    }
   ],
   "source": [
    "class Node:\n",
    "    def __init__(self, name):\n",
    "        self.name = name\n",
    "        # if n2 is neighbor of n1, it means n1 has path to n2, but n2 cannot go to n1\n",
    "        self.neighbor = []\n",
    "        \n",
    "def bfs(n1):\n",
    "    # Please print out the shortest distance from n1 to n7\n",
    "    # this function should return integer\n",
    "\n",
    "if __name__ == '__main__':\n",
    "    # seven nodes in graph with eight edges\n",
    "    n1 = Node(1)\n",
    "    n2 = Node(2)\n",
    "    n3 = Node(3)\n",
    "    n4 = Node(4)\n",
    "    n5 = Node(5)\n",
    "    n6 = Node(6)\n",
    "    n7 = Node(7)\n",
    "    n1.neighbor.append(n2)\n",
    "    n1.neighbor.append(n3)\n",
    "    n2.neighbor.append(n4)\n",
    "    n2.neighbor.append(n5)\n",
    "    n3.neighbor.append(n5)\n",
    "    n4.neighbor.append(n7)\n",
    "    n5.neighbor.append(n6)\n",
    "    n6.neighbor.append(n7)\n",
    "    if bfs(n1) == 3:\n",
    "        print('Congrats Theresa! You got bfs!')\n",
    "    else:\n",
    "        print('You might need to try again 0.0')"
   ]
  }
 ],
 "metadata": {
  "kernelspec": {
   "display_name": "Python 3",
   "language": "python",
   "name": "python3"
  },
  "language_info": {
   "codemirror_mode": {
    "name": "ipython",
    "version": 3
   },
   "file_extension": ".py",
   "mimetype": "text/x-python",
   "name": "python",
   "nbconvert_exporter": "python",
   "pygments_lexer": "ipython3",
   "version": "3.8.3"
  }
 },
 "nbformat": 4,
 "nbformat_minor": 4
}
